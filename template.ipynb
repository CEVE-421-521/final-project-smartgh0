{
  "cells": [
    {
      "cell_type": "raw",
      "metadata": {},
      "source": [
        "---\n",
        "title: Final Project Report\n",
        "author: Solomon Nyamekye (SN66)\n",
        "date: '2024-04-30'\n",
        "format:\n",
        "  docx:\n",
        "    toc: true\n",
        "    fig-format: png\n",
        "    number-sections: true\n",
        "    code-line-numbers: true\n",
        "date-format: 'ddd., MMM. D'\n",
        "bibliography: references.bib\n",
        "execute:\n",
        "  cache: false\n",
        "---"
      ],
      "id": "bb53c84c"
    },
    {
      "cell_type": "markdown",
      "metadata": {},
      "source": [
        "# Introduction\n",
        "\n",
        "In this final project, we delve into the significance of integrating the risk premium into house elevation models. We explore how it affects expected average damages (EAD), net present value (NPV), and overall cost-benefits analysis. Equity risk premium model assumes that investors demand a higher return or benefits for accepting the additional risk associated with investing in the market and adding this to the house elevation model, integrates risk-reward trade-off of elevating homes [@investopedia2021].\n",
        "\n",
        "By analyzing real-world examples and leveraging asset pricing models, we highlight the practical implications of considering risk in elevation strategies.\n",
        "\n",
        "## House information\n",
        "\n",
        "Zillow was used for the identification of a single-family residence with 4 bedrooms and 4 bathrooms situated approximately 0.56 miles from Galveston Pier 21, TX. The distance from the gauge was estimated using Google Maps, while the elevation of the house above Mean Sea Level (MSL) was determined using the USGS National Map Viewer. The estimated value of the house and area of the house were from Zillow. - Depth-damage function from depth-damage functions from the HAZUS model developed by the USArmy Corps of Engineers [@usaehazus] were used. The USACE Galvestion District Damage function with ID 85 was selected. The USACE Galveston functions are based on flood damage records, as well as post event surveys and are widely used by the Galveston district where the selected building is located. The selected description is a good fit for the selected building (the function is for hotels/motels) which is a popular hotel in the region that serves mostly fishermen in the area. Below are the details for the selected house.\n",
        "\n",
        "-   Galveston Pier 21, TX - Station (ID: 8771450):\n",
        "-   Latitude: 29° 18.6 N, Longitude: 94° 47.6 W.\n",
        "-   Historical water level extremes: Max (ref MHHW) 12.11 ft (Sep 08, 1900), Min (ref MLLW) -6.28 ft (Jan 11, 1908).\n",
        "-   Mean tidal range: 1.02 ft.\n",
        "-   Harbour House Hotel:\n",
        "-   Address: 21 Galveston, Texas 77550.\n",
        "-   Estimated distance from gauge: 319 feet (inland).\n",
        "-   Estimated building elevation: 6.0 feet.\n",
        "-   House Value: 200,00 USD\n",
        "\n",
        "## Problem Statement\n",
        "\n",
        "The objective is to investigate the influence of equity risk premiums on expected annual damages (NPV) and the cost-benefit analysis associated with house elevation decisions.\n",
        "\n",
        "By incorporating the risk premium into the house elevation model, it can encourage and assist homeowners in making informed decisions regarding house elevation, taking into account both upfront costs and benefits. Furthermore, elevated homes usually qualify for lower flood insurance premiums, and the inclusion of the risk premium allows us to determine the compensation homeowners receive for their decision to elevate their homes; risk-reward trade-off.\n",
        "\n",
        "## Selected Feature\n",
        "\n",
        "-   The chosen feature entails the incorporation of Equity Risk Premium (ERP) into our house elevation model. ERP is a crucial metric that reflects the price of risk in equity markets. By integrating ERP, we can directly account for its impact on the cost of equity for homeowners investing in elevation.\n",
        "\n",
        "-   This allows us to adjust the expected return on elevated homes, taking into consideration the physical and financial risks involved. Furthermore, elevated homes with lower risk may qualify for reduced flood insurance premiums. The house elevation model is now designed to support homeowners make informed decisions that balance both physical risk and financial implications.\n",
        "\n",
        "-   By integrating ERP, we bridge the gap between climate science and financial realities, ensuring that our elevation choices are both effective and economically sound.\n",
        "\n",
        "# Literature Review\n",
        "\n",
        "The concept of a risk premium is integral to understanding investment returns, representing the expected yield of an asset beyond the risk-free rate of return. This premium serves as a form of compensation for investors, offering a reward for assuming the additional risk associated with a particular investment over that of a risk-free asset [@investopedia2021]. Specifically, the equity risk premium (ERP) denotes the surplus return that investing in the stock market provides over the risk-free rate, constituting the equity cost. The greater the potential for capital loss, the higher the compensation an investor anticipates.\n",
        "\n",
        "While many studies have explored house elevation, only a few have tackled the financial risks (equity risk premium) involved in such a project. @botzen2013 have concentrated on the willingness to pay (WTP) for flood insurance and the WTP for risk elimination through elevation. Furthermore, @xian2017 proposed an optimal elevation strategy to minimize the sum of upfront elevation costs and cumulative expected losses, including risk-based insurance premiums over the house's lifespan [@xian2017]. Their innovative approach also suggested a voucher program linked with optimal elevation analysis, tailoring the voucher cost to factors such as loan length and interest rates, thereby indirectly compensating homeowners for the equity risk premium associated with the capital investment in home elevation.\n",
        "\n",
        "# Methodology\n",
        "\n",
        "## Implementation\n",
        "\n",
        "The equity risk premium (ERP) can be estimate by;\n",
        "\n",
        "$ERP = R_a - R_f = \\beta_a (R_m - R_f)$\n",
        "\n",
        "Where:\n",
        "\n",
        "( R_a ) = Expected return on an equity investment, ( R_f ) = Risk-free rate of return, ( \\\\beta_a ) = Beta of the equity investment, ( R_m ) = Expected return of the market\n",
        "\n",
        "-   λ \\* \\[risky expected rate of returns - risk-free return\\]\n",
        "\n",
        "-   λ is the beta coefficient that ranges from 0 to 1\n",
        "\n",
        "-   (risky expected rate of returns - risk-free return) represent the variance or standard deviation\n",
        "\n",
        "-   To implement risk premium (equity risk premium), we introduced a new parameter λ to our state of the world, sow. λ is sampled using normal probability distribution.\n",
        "\n",
        "-   λ is added to our \"draw_sow function\"\n"
      ],
      "id": "40207f1e"
    },
    {
      "cell_type": "code",
      "metadata": {},
      "source": [
        "#| echo: false\n",
        "using CSV\n",
        "using DataFrames\n",
        "using DataFramesMeta\n",
        "using Distributions\n",
        "using LaTeXStrings\n",
        "using Metaheuristics\n",
        "using Plots\n",
        "using Random\n",
        "using Unitful\n",
        "using Revise\n",
        "using HouseElevation\n",
        "Plots.default(; margin=5Plots.mm)"
      ],
      "id": "08d59cac",
      "execution_count": null,
      "outputs": []
    },
    {
      "cell_type": "code",
      "metadata": {},
      "source": [
        "#| echo: false\n",
        "#| output: false\n",
        "\n",
        "#We begin by defining the variables that don't change from one SOW to the next. \n",
        "#We load these into the `ModelParams, house and draw out sow.\n",
        "# \n",
        "house = let\n",
        "    haz_fl_dept = CSV.read(\"data/haz_fl_dept.csv\", DataFrame) # read in the file\n",
        "    desc = \"one story, Contents, fresh water, short duration\"\n",
        "    row = @rsubset(haz_fl_dept, :DmgFnId == 56)[1, :]\n",
        "    area = 2400u\"ft^2\"\n",
        "    height_above_gauge = 12u\"ft\"\n",
        "    House(row; area=area, height_above_gauge=height_above_gauge, value_usd=506_000)\n",
        "end\n",
        "\n",
        "p = ModelParams(; house=house, years=2024:2083)\n",
        "\n",
        "#Define how we will sample the states of the world.\n",
        "\n",
        "slr_scenarios = let\n",
        "    df = CSV.read(\"data/slr_oddo.csv\", DataFrame)\n",
        "    [Oddo17SLR(a, b, c, tstar, cstar) for (a, b, c, tstar, cstar) in eachrow(df)]\n",
        "end\n",
        "\n",
        "function draw_surge_distribution()\n",
        "    μ = rand(Normal(5, 1))\n",
        "    σ = rand(Exponential(1.25))\n",
        "    ξ = rand(Normal(0.1, 0.05))\n",
        "    return GeneralizedExtremeValue(μ, σ, ξ)\n",
        "end\n",
        "\n",
        "function draw_discount_rate()\n",
        "    return rand(Normal(0.05, 0.03))\n",
        "end"
      ],
      "id": "69a84d96",
      "execution_count": null,
      "outputs": []
    },
    {
      "cell_type": "code",
      "metadata": {},
      "source": [
        "#| output: false\n",
        "\n",
        "#we add the beta coefficient to our sow\n",
        "function draw_sow()\n",
        "    λ = rand(Normal(0.06, 0.0004))\n",
        "    slr = rand(slr_scenarios)\n",
        "    surge_params = draw_surge_distribution()\n",
        "    discount = draw_discount_rate()\n",
        "    return SOW(slr, surge_params, discount, λ)\n",
        "end"
      ],
      "id": "8e4ab372",
      "execution_count": null,
      "outputs": []
    },
    {
      "cell_type": "code",
      "metadata": {},
      "source": [
        "#| echo: false\n",
        "Random.seed!(421521)\n",
        "N_SOW = 1000#0\n",
        "N_SOW_opt = 100 #to start\n",
        "sows = [draw_sow() for _ in 1:N_SOW]\n",
        "sows_opt = first(sows, N_SOW_opt);"
      ],
      "id": "e777303d",
      "execution_count": null,
      "outputs": []
    },
    {
      "cell_type": "code",
      "metadata": {},
      "source": [
        "#| echo: false\n",
        "#| output: false\n",
        "\n",
        "bounds = boxconstraints(; lb=[0.0], ub=[14.0])"
      ],
      "id": "9cbb6543",
      "execution_count": null,
      "outputs": []
    },
    {
      "cell_type": "code",
      "metadata": {},
      "source": [
        "#| echo: false\n",
        "#| output: false\n",
        "function trapz(x, y)\n",
        "    return sum((x[2:end] - x[1:(end-1)]) .* (y[2:end] + y[1:(end-1)])) * 0.5\n",
        "end"
      ],
      "id": "3ccccb30",
      "execution_count": null,
      "outputs": []
    },
    {
      "cell_type": "markdown",
      "metadata": {},
      "source": [
        "## New function for run simulation\n",
        "\n",
        "-   New function, \"run_sim_risk\" is created with modification of the expected annual damages (EAD) to incorporate the ERP into computation of the \"EAD\".\n",
        "-   The EAD is then discounted over the number of years (2024:2083) get the net present value for after incorporating risk premium.\n"
      ],
      "id": "de50da14"
    },
    {
      "cell_type": "code",
      "metadata": {},
      "source": [
        "function run_sim_risk(a::Action, sow::SOW, p::ModelParams, λ::Float64)\n",
        "    #| output: false\n",
        "\n",
        "    # first, we calculate the cost of elevating the house\n",
        "    construction_cost = elevation_cost(p.house, a.Δh_ft)\n",
        "\n",
        "    # we don't need to recalculate the steps of the trapezoidal integral for each year\n",
        "    storm_surges_ft = range(\n",
        "        quantile(sow.surge_dist, 0.0005); stop=quantile(sow.surge_dist, 0.9995), length=130\n",
        "    )\n",
        "    eads = map(p.years) do year\n",
        "        # get the sea level for this year\n",
        "        slr_ft = sow.slr(year)\n",
        "        # Compute EAD using risk premium concept\n",
        "        pdf_values = pdf.(sow.surge_dist, storm_surges_ft) # probability of each\n",
        "        depth_ft_gauge = storm_surges_ft .+ slr_ft # flood at gauge\n",
        "        depth_ft_house = depth_ft_gauge .- (p.house.height_above_gauge_ft + a.Δh_ft) # flood @ house\n",
        "        damages_frac = p.house.ddf.(depth_ft_house) ./ 100 # damage\n",
        "        mean_damages = mean(damages_frac)\n",
        "        std_damages = std(damages_frac)\n",
        "        ead = (mean_damages + sow.λ * std_damages) * p.house.value_usd\n",
        "    end\n",
        "\n",
        "    years_idx = p.years .- minimum(p.years)\n",
        "    discount_fracs = (1 - sow.discount_rate) .^ years_idx\n",
        "    ead_npv = sum(eads .* discount_fracs)\n",
        "    return -(ead_npv + construction_cost)\n",
        "end"
      ],
      "id": "5c9aa608",
      "execution_count": null,
      "outputs": []
    },
    {
      "cell_type": "markdown",
      "metadata": {},
      "source": [
        "## Risk based objective function\n",
        "\n",
        "-   New objective function which incorporate new parameter λ is created.\n",
        "-   The new function is then passed to our optimization function\n"
      ],
      "id": "895ed106"
    },
    {
      "cell_type": "code",
      "metadata": {},
      "source": [
        "function objective_function_risk(Δh::Vector{Float64})\n",
        "    #| output: false\n",
        "    λ = rand(Normal(0.06, 0.0004))\n",
        "    a = Action(Δh[1])\n",
        "    npvs = [run_sim_risk(a, sow, p, λ) for sow in sows_opt]\n",
        "    return -mean(npvs)\n",
        "end"
      ],
      "id": "eea1255d",
      "execution_count": null,
      "outputs": []
    },
    {
      "cell_type": "code",
      "metadata": {},
      "source": [
        "#| echo: false\n",
        "#| output: false\n",
        "function objective_function(Δh::Vector{Float64})\n",
        "    a = Action(Δh[1])\n",
        "    npvs = [run_sim(a, sow, p) for sow in sows_opt]\n",
        "    return -mean(npvs)\n",
        "end"
      ],
      "id": "cee26068",
      "execution_count": null,
      "outputs": []
    },
    {
      "cell_type": "code",
      "metadata": {},
      "source": [
        "#| echo: false\n",
        "#| output: false\n",
        "\n",
        "# Testing our objective functions\n",
        "r = [2.0]\n",
        "println(objective_function_risk(r))\n",
        "println(objective_function(r))"
      ],
      "id": "0fca1cdf",
      "execution_count": null,
      "outputs": []
    },
    {
      "cell_type": "code",
      "metadata": {},
      "source": [
        "#| echo: false\n",
        "#| output: false\n",
        "\n",
        "#We can throw this straight into the `optimize` function:\n",
        "result = optimize(objective_function, bounds)"
      ],
      "id": "08b233fb",
      "execution_count": null,
      "outputs": []
    },
    {
      "cell_type": "code",
      "metadata": {},
      "source": [
        "#| echo: false\n",
        "#| output: false\n",
        "result_risk = optimize(objective_function_risk, bounds)"
      ],
      "id": "671622d4",
      "execution_count": null,
      "outputs": []
    },
    {
      "cell_type": "code",
      "metadata": {},
      "source": [
        "#| echo: false\n",
        "#| output: false\n",
        "minimum(result)\n",
        "minimum(result_risk)\n",
        "\n",
        "#and the value of the decision variable that achieves that minimum with:\n",
        "minimizer(result)\n",
        "minimizer(result_risk)\n",
        "\n",
        "#This seems like it's working plausibly.\n",
        "#Let's try now with more SOWs.\n",
        "N_SOW_opt = 1000#0\n",
        "sows_opt = first(sows, N_SOW_opt)\n",
        "\n",
        "#Since I'm using more SOWs here, I'll also increase the time limit for the optimization to three minutes.\n",
        "options = Options(; time_limit=180.0, f_tol_rel=10.0)\n",
        "\n",
        "#To use options, we have to choose an algorithm.\n",
        "#See list of algorithms [here](https://jmejia8.github.io/Metaheuristics.jl/stable/algorithms/).\n",
        "#The `ECA` algorithm is suggested as a default, so we'll use that.\n",
        "algorithm = ECA(; options=options)\n",
        "\n",
        "#Before we run the optimization, let's set a random seed.\n",
        "#This will make our results more reproducible.\n",
        "#We can then vary the seed to see how sensitive our results are to the random seed.\n",
        "Random.seed!(421521)\n",
        "result = optimize(objective_function, bounds, algorithm)"
      ],
      "id": "04fa7a81",
      "execution_count": null,
      "outputs": []
    },
    {
      "cell_type": "code",
      "metadata": {},
      "source": [
        "#| echo: false\n",
        "#| output: false\n",
        "\n",
        "Random.seed!(421521)\n",
        "result = optimize(objective_function_risk, bounds, algorithm)"
      ],
      "id": "55022a6d",
      "execution_count": null,
      "outputs": []
    },
    {
      "cell_type": "code",
      "metadata": {},
      "source": [
        "#| echo: false\n",
        "#| output: false\n",
        "display(minimum(result))\n",
        "display(minimizer(result))"
      ],
      "id": "528db629",
      "execution_count": null,
      "outputs": []
    },
    {
      "cell_type": "code",
      "metadata": {},
      "source": [
        "#| output: false\n",
        "#| echo: false\n",
        "display(minimum(result_risk))\n",
        "display(minimizer(result_risk))"
      ],
      "id": "535275e0",
      "execution_count": null,
      "outputs": []
    },
    {
      "cell_type": "markdown",
      "metadata": {},
      "source": [
        "# Validation\n",
        "\n",
        "we can use brute force. We can compare by plotting the risk-based objective function and the initial objective function for a range of elevations (from 0 to 14 ft) using all SOWs.\n"
      ],
      "id": "85077975"
    },
    {
      "cell_type": "code",
      "metadata": {},
      "source": [
        "#| output: false\n",
        "#| echo: false\n",
        "\n",
        "λ = rand(Normal(0.06, 0.0004))\n",
        "elevations_try = 0:0.5:14\n",
        "actions_try = Action.(elevations_try)\n",
        "N_more = 1000 #0\n",
        "npvs_opt = [mean([run_sim(a, sow, p) for sow in sows_opt]) for a in actions_try]\n",
        "npvs_moore = [mean([run_sim(a, sow, p) for sow in first(sows, N_more)]) for a in actions_try]\n",
        "npvs_opt_risk = [mean([run_sim_risk(a, sow, p, λ) for sow in sows_opt]) for a in actions_try]\n",
        "npvs_moore_risk = [mean([run_sim_risk(a, sow, p, λ) for sow in first(sows, N_more)]) for a in actions_try]"
      ],
      "id": "4a8b7861",
      "execution_count": null,
      "outputs": []
    },
    {
      "cell_type": "code",
      "metadata": {},
      "source": [
        "#| echo: false\n",
        "#| label: risk_vs_non_risk\n",
        "#| fig-cap: 'Figure 1. for risk-based, and non risk-based objective function'\n",
        "\n",
        "plot(elevations_try, npvs_moore_risk ./ 1000; label=\"Risk-based First $(N_more) SOWs\", marker=:circle, linecolor=:red)\n",
        "plot!(elevations_try, npvs_moore ./ 1000; xlabel=\"Elevation [ft]\", ylabel=\"NPV [1000 USD]\", label=\" None Risk-based First $(N_more) SOWs\", marker=:circle, linecolor=:blue, title=\"Risk-based vs non risk-based\")\n",
        "vline!([minimizer(result_risk)]; label=\"Risk-base Optimal elevation\", linestyle=:dash, linecolor=:orange)\n",
        "vline!([minimizer(result)]; label=\"Non risk-based Optimal elevation\", linestyle=:dash)"
      ],
      "id": "risk_vs_non_risk",
      "execution_count": null,
      "outputs": []
    },
    {
      "cell_type": "markdown",
      "metadata": {},
      "source": [
        "## Calibration of the risk premium sampling\n",
        "\n",
        "-   Using Average market risk premium in the U.S. 2011-2023 Published by Statista Research Department, Jun 14, 2023; a normal distribution N(0.06,0.0004) were used for the sampling of the equity risk premium [@statista2023] .\n",
        "-   The mean and the standard deviation for the distribution were calculated using the historical data.\n",
        "-   Quantile-Quantile (Q-Q) Plot were used to validate the calibration -see the appendix figure.\n",
        "\n",
        "# Results\n",
        "\n",
        "## Non risk-based NPV for all sow\n"
      ],
      "id": "d14ebf06"
    },
    {
      "cell_type": "code",
      "metadata": {
        "lable": "non_risk"
      },
      "source": [
        "#| echo: false\n",
        "#| fig-cap: ' Figure 2. Non risk-based NPV in M USD vs elevation in ft plot'\n",
        "\n",
        "plot(\n",
        "    elevations_try,\n",
        "    npvs_opt ./ 1000;\n",
        "    xlabel=\"Elevation [ft]\",\n",
        "    ylabel=\"NPV [1000 USD]\",\n",
        "    label=\"First $(N_SOW_opt) SOWs\",\n",
        "    marker=:circle, title=\"\")\n",
        "\n",
        "plot!(elevations_try, npvs_moore ./ 1000; label=\"First $(N_more) SOWs\", marker=:circle)\n",
        "vline!([minimizer(result)]; label=\"Optimal\", linestyle=:dash)"
      ],
      "id": "b29ef6d0",
      "execution_count": null,
      "outputs": []
    },
    {
      "cell_type": "markdown",
      "metadata": {},
      "source": [
        "## Risk-based NPV for all sow\n"
      ],
      "id": "2d2d7c72"
    },
    {
      "cell_type": "code",
      "metadata": {},
      "source": [
        "#| echo: false\n",
        "#| #| lable: risk_based\n",
        "#| fig-cap: \"Figure 3. Risk-based NPV in M USD vs elevation in ft plot\"\n",
        "plot!(elevations_try, npvs_moore_risk ./ 1000; label=\"Risk_premium_First $(N_more) SOWs\", marker=:circle)\n",
        "plot!(elevations_try, npvs_opt_risk ./ 1000; label=\"Risk_premium_First $(N_SOW_opt) SOWs\", marker=:circle)\n",
        "vline!([minimizer(result_risk)]; label=\"Risk_Optimal\", linestyle=:dash)"
      ],
      "id": "6e6403b5",
      "execution_count": null,
      "outputs": []
    },
    {
      "cell_type": "markdown",
      "metadata": {},
      "source": [
        "## Comparing risk-based and non risk-based results for all sow\n"
      ],
      "id": "fc7b8d14"
    },
    {
      "cell_type": "code",
      "metadata": {
        "lable": "plot_all"
      },
      "source": [
        "#| echo: false\n",
        "#| fig-cap: Figure 4. Risk-based NPV and non risk-based in M USD vs elevation in ft plot\n",
        "\n",
        "#plots for non risk-based\n",
        "plot(\n",
        "    elevations_try,\n",
        "    npvs_opt ./ 1000;\n",
        "    xlabel=\"Elevation [ft]\",\n",
        "    ylabel=\"NPV [1000 USD]\",\n",
        "    label=\"First $(N_SOW_opt) SOWs\",\n",
        "    marker=:circle,\n",
        ")\n",
        "plot!(elevations_try, npvs_moore ./ 1000; label=\"First $(N_more) SOWs\", marker=:circle)\n",
        "vline!([minimizer(result)]; label=\"Optimal\", linestyle=:dash)\n",
        "#plot for risk-base\n",
        "plot!(elevations_try, npvs_moore_risk ./ 1000; label=\"Risk_premium_First $(N_more) SOWs\", marker=:circle)\n",
        "plot!(elevations_try, npvs_opt_risk ./ 1000; label=\"Risk_premium_First $(N_SOW_opt) SOWs\", marker=:circle)\n",
        "vline!([minimizer(result_risk)]; label=\"Risk_Optimal\", linestyle=:dash)"
      ],
      "id": "3de72284",
      "execution_count": null,
      "outputs": []
    },
    {
      "cell_type": "markdown",
      "metadata": {},
      "source": [
        "## Impact of Adding Equity Risk Premium on Decision Support Tool:\n",
        "\n",
        "-   The NPV values range from -204.452M USD to -311.472M USD.\n",
        "-   As elevation increases from 0.0 to 14.0 feet, the NPV generally becomes less negative, indicating a reduction in overall costs or losses as elevation increases.\n",
        "-   The NPV values range from -2338.18M USD to -899.982M USD. Similar to the non-risk analysis, as elevation increases, the NPV generally becomes less negative, suggesting a reduction in costs or losses as elevation increases.\n",
        "-   However, the NPV values are significantly more negative compared to the non-risk analysis, indicating higher costs or losses associated with incorporating the equity risk premium.\n",
        "\n",
        "# Conclusion\n",
        "\n",
        "## Discusion\n",
        "\n",
        "-   The enhanced decision-support tool could recommend elevation based on expected annual damages considering both financial and climate risk factors\n",
        "\n",
        "-   By accounting for equity risk premiums, climate risk assessments become more holistic.\n",
        "\n",
        "-   Incorporating an equity risk premium allows homeowners to assess the trade-offs between upfront costs (e.g., elevation construction) and long-term benefits (e.g., reduced flood risk).\n",
        "\n",
        "-   Owners making house elevation decisions need to be aware of the higher costs associated with assuming risk, which may influence their decision-making process.\n",
        "\n",
        "-   The tool provides a more realistic assessment of the costs and benefits, considering both the physical elevation costs and the financial risks associated with uncertain outcomes.\n",
        "\n",
        "-   The analysis highlights the need for integrated risk assessment frameworks that combine physical and financial risk considerations.\n",
        "\n",
        "-   Future studies could incorporate calibration of the equity risk premium using historical data in the financial equity markets.\n",
        "\n",
        "-   In conclusion adding the equity risk premium to the decision support tool for house elevation decisions enhances its ability to provide owners with a comprehensive understanding of the financial implications and risks associated with different elevation scenarios. This information enables owners to make more informed decisions that align with their risk tolerance and financial objectives.\n",
        "\n",
        "# references\n",
        "\n",
        "::: {#refs}\n",
        ":::\n",
        "\n",
        "# Appendix\n",
        "\n",
        "Quantile-Quantile Plot during calibration\n"
      ],
      "id": "a0b542d9"
    },
    {
      "cell_type": "code",
      "metadata": {},
      "source": [
        "#| echo: false\n",
        "#| output: true\n",
        "\n",
        "\n",
        "# Historical data\n",
        "market_risk_premium = [5.50, 5.50, 5.70, 5.40, 5.50, 5.30, 5.70, 5.40, 5.60, 5.60, 5.50, 5.60, 5.70]\n",
        "\n",
        "# Normal distribution parameters\n",
        "μ = 0.0554\n",
        "σ = 0.0004\n",
        "normal_dist = Normal(μ, σ)\n",
        "\n",
        "# Calculate quantiles of historical data\n",
        "n = length(market_risk_premium)\n",
        "quantiles_data = quantile(market_risk_premium, collect(0.01:0.01:0.99))\n",
        "\n",
        "# Calculate quantiles of Normal distribution\n",
        "quantiles_norm = quantile(normal_dist, collect(0.01:0.01:0.99))\n",
        "\n",
        "# Plot Q-Q plot\n",
        "plot(quantiles_norm, quantiles_data, line=:dash, legend=false)\n",
        "scatter!(quantiles_norm, quantiles_data, xlabel=\"Theoretical Quantiles (Normal Distribution)\", ylabel=\"Sample Quantiles (Historical Data)\", title=\"Quantile-Quantile Plot\")"
      ],
      "id": "da43ae56",
      "execution_count": null,
      "outputs": []
    }
  ],
  "metadata": {
    "kernelspec": {
      "name": "julia-1.10",
      "language": "julia",
      "display_name": "Julia 1.10.2"
    }
  },
  "nbformat": 4,
  "nbformat_minor": 5
}